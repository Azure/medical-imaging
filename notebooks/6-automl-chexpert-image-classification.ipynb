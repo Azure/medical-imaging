{
  "cells": [
    {
      "cell_type": "markdown",
      "metadata": {},
      "source": [
        "Microsoft AI Rangers Demo\n",
        "# Large Scale Image Classification\n",
        "__X-Ray Classification using CheXpert__"
      ]
    },
    {
      "cell_type": "markdown",
      "metadata": {},
      "source": [
        "<img src=\"images/dp-chexpert.png\" width=800 />\n",
        "\n",
        "### Goal\n",
        "The goal of this notebook is demonstrate feasiblity of large scale multi-label image classification from radiographs using Automated Machine Learning. For this, we are using [CheXpert:](https://stanfordmlgroup.github.io/competitions/chexpert/) a large chest X-Ray dataset. Given that the original size of CheXpert is ~400GB, we will use the small version (image resized) which is ~11GB.\n",
        "\n",
        "\n",
        "### Steps\n",
        "1. Upload data (small dataset) to the cloud\n",
        "2. Convert the data to JSONL\n",
        "3. Set AutoML Run\n",
        "4. Configure parameters and run\n",
        "\n",
        "At the end, we show results using CheXpert standard image size (no resizing).\n",
        "\n",
        "This notebook was developed and tested using an Azure ML STANDARD_D13_V2 CPU [compute instance](https://docs.microsoft.com/en-us/azure/machine-learning/how-to-create-manage-compute-instance?tabs=python) and Python [SDK azureml v1](https://learn.microsoft.com/en-us/python/api/overview/azure/ml/?view=azure-ml-py&preserve-view=true).\n"
      ]
    },
    {
      "cell_type": "markdown",
      "metadata": {
        "nteract": {
          "transient": {
            "deleting": false
          }
        }
      },
      "source": [
        "# 1. Upload data to the cloud\n",
        "\n",
        "## Download and extracting CheXpert\n",
        "The dataset is available for download [here](https://stanfordmlgroup.github.io/competitions/chexpert/). We have downloaded the dataset from above url and zipped the images files into the following structure:\n",
        "\n",
        "<img src=\"images/dp-chexpert-file-structure.png\" width=200 />\n"
      ]
    },
    {
      "cell_type": "code",
      "execution_count": null,
      "metadata": {
        "jupyter": {
          "outputs_hidden": false,
          "source_hidden": false
        },
        "nteract": {
          "transient": {
            "deleting": false
          }
        }
      },
      "outputs": [],
      "source": [
        "# remove files from /tmp to avoid potential overlap from previous runs\n",
        "!rm /tmp/CheXpert-v1.0-small.zip\n",
        "!rm -r /tmp/CheXpert-v1.0-small\n",
        "\n",
        "# Download the small version of the dataset\n",
        "!wget \"LINK_TO_FILE\" -P /tmp\n",
        "!unzip -q /tmp/CheXpert-v1.0-small.zip -d /tmp"
      ]
    },
    {
      "cell_type": "code",
      "execution_count": 29,
      "metadata": {
        "jupyter": {
          "outputs_hidden": false,
          "source_hidden": false
        },
        "nteract": {
          "transient": {
            "deleting": false
          }
        }
      },
      "outputs": [],
      "source": [
        "from azureml.core.workspace import Workspace\n",
        "\n",
        "ws = Workspace.from_config()\n",
        "ds = ws.get_default_datastore()\n",
        "\n",
        "chexpert_local_path = '/tmp/CheXpert-v1.0-small/'\n",
        "blob_chexpert_target_name = \"chexpert_v1_small/\"\n",
        "\n",
        "# Upload image files to livecell folder in AML datastore\n",
        "ds.upload(src_dir=chexpert_local_path, target_path=blob_chexpert_target_name, overwrite=True, show_progress=False)\n"
      ]
    },
    {
      "cell_type": "markdown",
      "metadata": {
        "nteract": {
          "transient": {
            "deleting": false
          }
        }
      },
      "source": [
        "## 2. Convert the data to JSONL"
      ]
    },
    {
      "cell_type": "code",
      "execution_count": 32,
      "metadata": {
        "jupyter": {
          "outputs_hidden": false,
          "source_hidden": false
        },
        "nteract": {
          "transient": {
            "deleting": false
          }
        }
      },
      "outputs": [
        {
          "name": "stdout",
          "output_type": "stream",
          "text": [
            "(191027, 19)\n"
          ]
        },
        {
          "data": {
            "text/html": [
              "<div>\n",
              "<style scoped>\n",
              "    .dataframe tbody tr th:only-of-type {\n",
              "        vertical-align: middle;\n",
              "    }\n",
              "\n",
              "    .dataframe tbody tr th {\n",
              "        vertical-align: top;\n",
              "    }\n",
              "\n",
              "    .dataframe thead th {\n",
              "        text-align: right;\n",
              "    }\n",
              "</style>\n",
              "<table border=\"1\" class=\"dataframe\">\n",
              "  <thead>\n",
              "    <tr style=\"text-align: right;\">\n",
              "      <th></th>\n",
              "      <th>Path</th>\n",
              "      <th>Sex</th>\n",
              "      <th>Age</th>\n",
              "      <th>Frontal/Lateral</th>\n",
              "      <th>AP/PA</th>\n",
              "      <th>No Finding</th>\n",
              "      <th>Enlarged Cardiomediastinum</th>\n",
              "      <th>Cardiomegaly</th>\n",
              "      <th>Lung Opacity</th>\n",
              "      <th>Lung Lesion</th>\n",
              "      <th>Edema</th>\n",
              "      <th>Consolidation</th>\n",
              "      <th>Pneumonia</th>\n",
              "      <th>Atelectasis</th>\n",
              "      <th>Pneumothorax</th>\n",
              "      <th>Pleural Effusion</th>\n",
              "      <th>Pleural Other</th>\n",
              "      <th>Fracture</th>\n",
              "      <th>Support Devices</th>\n",
              "    </tr>\n",
              "  </thead>\n",
              "  <tbody>\n",
              "    <tr>\n",
              "      <th>0</th>\n",
              "      <td>CheXpert-v1.0-small/train/patient00001/study1/...</td>\n",
              "      <td>Female</td>\n",
              "      <td>68</td>\n",
              "      <td>Frontal</td>\n",
              "      <td>AP</td>\n",
              "      <td>1.0</td>\n",
              "      <td>NaN</td>\n",
              "      <td>NaN</td>\n",
              "      <td>NaN</td>\n",
              "      <td>NaN</td>\n",
              "      <td>NaN</td>\n",
              "      <td>NaN</td>\n",
              "      <td>NaN</td>\n",
              "      <td>NaN</td>\n",
              "      <td>0.0</td>\n",
              "      <td>NaN</td>\n",
              "      <td>NaN</td>\n",
              "      <td>NaN</td>\n",
              "      <td>1.0</td>\n",
              "    </tr>\n",
              "    <tr>\n",
              "      <th>1</th>\n",
              "      <td>CheXpert-v1.0-small/train/patient00002/study2/...</td>\n",
              "      <td>Female</td>\n",
              "      <td>87</td>\n",
              "      <td>Frontal</td>\n",
              "      <td>AP</td>\n",
              "      <td>NaN</td>\n",
              "      <td>NaN</td>\n",
              "      <td>-1.0</td>\n",
              "      <td>1.0</td>\n",
              "      <td>NaN</td>\n",
              "      <td>-1.0</td>\n",
              "      <td>-1.0</td>\n",
              "      <td>NaN</td>\n",
              "      <td>-1.0</td>\n",
              "      <td>NaN</td>\n",
              "      <td>-1.0</td>\n",
              "      <td>NaN</td>\n",
              "      <td>1.0</td>\n",
              "      <td>NaN</td>\n",
              "    </tr>\n",
              "    <tr>\n",
              "      <th>2</th>\n",
              "      <td>CheXpert-v1.0-small/train/patient00002/study1/...</td>\n",
              "      <td>Female</td>\n",
              "      <td>83</td>\n",
              "      <td>Frontal</td>\n",
              "      <td>AP</td>\n",
              "      <td>NaN</td>\n",
              "      <td>NaN</td>\n",
              "      <td>NaN</td>\n",
              "      <td>1.0</td>\n",
              "      <td>NaN</td>\n",
              "      <td>NaN</td>\n",
              "      <td>-1.0</td>\n",
              "      <td>NaN</td>\n",
              "      <td>NaN</td>\n",
              "      <td>NaN</td>\n",
              "      <td>NaN</td>\n",
              "      <td>NaN</td>\n",
              "      <td>1.0</td>\n",
              "      <td>NaN</td>\n",
              "    </tr>\n",
              "    <tr>\n",
              "      <th>4</th>\n",
              "      <td>CheXpert-v1.0-small/train/patient00003/study1/...</td>\n",
              "      <td>Male</td>\n",
              "      <td>41</td>\n",
              "      <td>Frontal</td>\n",
              "      <td>AP</td>\n",
              "      <td>NaN</td>\n",
              "      <td>NaN</td>\n",
              "      <td>NaN</td>\n",
              "      <td>NaN</td>\n",
              "      <td>NaN</td>\n",
              "      <td>1.0</td>\n",
              "      <td>NaN</td>\n",
              "      <td>NaN</td>\n",
              "      <td>NaN</td>\n",
              "      <td>0.0</td>\n",
              "      <td>NaN</td>\n",
              "      <td>NaN</td>\n",
              "      <td>NaN</td>\n",
              "      <td>NaN</td>\n",
              "    </tr>\n",
              "  </tbody>\n",
              "</table>\n",
              "</div>"
            ],
            "text/plain": [
              "                                                Path     Sex  Age  \\\n",
              "0  CheXpert-v1.0-small/train/patient00001/study1/...  Female   68   \n",
              "1  CheXpert-v1.0-small/train/patient00002/study2/...  Female   87   \n",
              "2  CheXpert-v1.0-small/train/patient00002/study1/...  Female   83   \n",
              "4  CheXpert-v1.0-small/train/patient00003/study1/...    Male   41   \n",
              "\n",
              "  Frontal/Lateral AP/PA  No Finding  Enlarged Cardiomediastinum  Cardiomegaly  \\\n",
              "0         Frontal    AP         1.0                         NaN           NaN   \n",
              "1         Frontal    AP         NaN                         NaN          -1.0   \n",
              "2         Frontal    AP         NaN                         NaN           NaN   \n",
              "4         Frontal    AP         NaN                         NaN           NaN   \n",
              "\n",
              "   Lung Opacity  Lung Lesion  Edema  Consolidation  Pneumonia  Atelectasis  \\\n",
              "0           NaN          NaN    NaN            NaN        NaN          NaN   \n",
              "1           1.0          NaN   -1.0           -1.0        NaN         -1.0   \n",
              "2           1.0          NaN    NaN           -1.0        NaN          NaN   \n",
              "4           NaN          NaN    1.0            NaN        NaN          NaN   \n",
              "\n",
              "   Pneumothorax  Pleural Effusion  Pleural Other  Fracture  Support Devices  \n",
              "0           0.0               NaN            NaN       NaN              1.0  \n",
              "1           NaN              -1.0            NaN       1.0              NaN  \n",
              "2           NaN               NaN            NaN       1.0              NaN  \n",
              "4           0.0               NaN            NaN       NaN              NaN  "
            ]
          },
          "execution_count": 32,
          "metadata": {},
          "output_type": "execute_result"
        }
      ],
      "source": [
        "import pandas as pd\n",
        "import json, os\n",
        "\n",
        "df_train = pd.read_csv( chexpert_local_path + 'train.csv')\n",
        "df_train = df_train[df_train['Frontal/Lateral'] == 'Frontal']  \n",
        "\n",
        "df_valid = pd.read_csv(chexpert_local_path + 'valid.csv')\n",
        "df_valid = df_valid[df_valid['Frontal/Lateral'] == 'Frontal']  \n",
        "\n",
        "print(df_train.shape)\n",
        "df_train.head(4)"
      ]
    },
    {
      "cell_type": "code",
      "execution_count": 33,
      "metadata": {
        "jupyter": {
          "outputs_hidden": false,
          "source_hidden": false
        },
        "nteract": {
          "transient": {
            "deleting": false
          }
        }
      },
      "outputs": [],
      "source": [
        "pathologies = ['Cardiomegaly', 'Edema', 'Consolidation', 'Atelectasis', 'Pleural Effusion']\n",
        "# sample json line dictionary\n",
        "json_line_sample = {\n",
        "    \"image_url\": \"AmlDatastore://\",\n",
        "    \"label\": \"\"\n",
        "    }\n",
        "\n",
        "chexpert_dataset_name = \"CheXpert-v1.0-small\"\n",
        "# To process standard CheXpert, just remove the '-small' characters:\n",
        "# chexpert_dataset_name = \"CheXpert-v1.0\"\n",
        "\n",
        "label_dir = 'label_files/'\n",
        "labels_chexpert_local_path = chexpert_local_path + label_dir\n",
        "\n",
        "if not os.path.exists(labels_chexpert_local_path):\n",
        "    os.mkdir(labels_chexpert_local_path)\n",
        "\n",
        "chexpert_train_jsonl_file_name = \"chexpert_train.jsonl\"\n",
        "chexpert_validation_jsonl_file_name = \"chexpert_validation.jsonl\"\n",
        "\n",
        "# Path to the training and validation files\n",
        "train_annotations_file = labels_chexpert_local_path + chexpert_train_jsonl_file_name\n",
        "validation_annotations_file = labels_chexpert_local_path + chexpert_validation_jsonl_file_name\n",
        "\n",
        "with open(train_annotations_file, \"w\") as train_f:\n",
        "    for idx, row in df_train.iterrows():\n",
        "        pathology_list = [pathology for pathology in pathologies if row[pathology] == 1]\n",
        "        if len(pathology_list) == 0:\n",
        "            pathology_list.append(\"X_other\")\n",
        "        json_line = dict(json_line_sample)\n",
        "        json_line[\"image_url\"] += \"workspaceblobstore/\" + row.Path.replace(chexpert_dataset_name,blob_chexpert_target_name) \n",
        "        json_line[\"label\"] = pathology_list  \n",
        "        train_f.write(json.dumps(json_line) + \"\\n\")\n",
        "\n",
        "with open(validation_annotations_file, \"w\") as validation_f:\n",
        "    for idx, row in df_valid.iterrows():\n",
        "        pathology_list = [pathology for pathology in pathologies if row[pathology] == 1]\n",
        "        if len(pathology_list) == 0:\n",
        "            pathology_list.append(\"X_other\")\n",
        "        json_line = dict(json_line_sample)\n",
        "        json_line[\"image_url\"] += \"workspaceblobstore/\" +  row.Path.replace(chexpert_dataset_name,blob_chexpert_target_name) \n",
        "        json_line[\"label\"] = pathology_list  \n",
        "        validation_f.write(json.dumps(json_line) + \"\\n\")\n"
      ]
    },
    {
      "cell_type": "code",
      "execution_count": 35,
      "metadata": {
        "jupyter": {
          "outputs_hidden": false,
          "source_hidden": false
        },
        "nteract": {
          "transient": {
            "deleting": false
          }
        }
      },
      "outputs": [
        {
          "name": "stdout",
          "output_type": "stream",
          "text": [
            "Uploading an estimated of 2 files\n",
            "Uploading /tmp/CheXpert-v1.0-small/label_files/chexpert_validation.jsonl\n",
            "Uploaded /tmp/CheXpert-v1.0-small/label_files/chexpert_validation.jsonl, 1 files out of an estimated total of 2\n",
            "Uploading /tmp/CheXpert-v1.0-small/label_files/chexpert_train.jsonl\n",
            "Uploaded /tmp/CheXpert-v1.0-small/label_files/chexpert_train.jsonl, 2 files out of an estimated total of 2\n",
            "Uploaded 2 files\n"
          ]
        },
        {
          "data": {
            "text/plain": [
              "$AZUREML_DATAREFERENCE_fe2c2f936a684cb6b4cd658e0e6acaf3"
            ]
          },
          "execution_count": 35,
          "metadata": {},
          "output_type": "execute_result"
        }
      ],
      "source": [
        "ds = ws.get_default_datastore()\n",
        "\n",
        "labels_chexpert_blob_path = blob_chexpert_target_name + label_dir\n",
        "\n",
        "# Upload json files to the label folder in AML datastore\n",
        "ds.upload(src_dir=labels_chexpert_local_path, target_path=labels_chexpert_blob_path, overwrite=True, show_progress=True)"
      ]
    },
    {
      "cell_type": "code",
      "execution_count": 37,
      "metadata": {
        "jupyter": {
          "outputs_hidden": false,
          "source_hidden": false
        },
        "nteract": {
          "transient": {
            "deleting": false
          }
        }
      },
      "outputs": [
        {
          "name": "stdout",
          "output_type": "stream",
          "text": [
            "Training dataset name: chexpert_train\n",
            "Validation dataset name: chexpert_valid\n"
          ]
        }
      ],
      "source": [
        "from azureml.contrib.dataset.labeled_dataset import _LabeledDatasetFactory, LabeledDatasetTask\n",
        "from azureml.core import Dataset\n",
        "\n",
        "# Path to the training and validation files\n",
        "train_dataset_name = \"chexpert_train\"\n",
        "valid_dataset_name = \"chexpert_valid\"\n",
        "\n",
        "# create training dataset\n",
        "training_dataset = _LabeledDatasetFactory.from_json_lines(\n",
        "    task=LabeledDatasetTask.IMAGE_MULTI_LABEL_CLASSIFICATION, path=ds.path(labels_chexpert_blob_path + chexpert_train_jsonl_file_name))\n",
        "training_dataset = training_dataset.register(workspace=ws, name=train_dataset_name)\n",
        "\n",
        "# create validation dataset\n",
        "validation_dataset = _LabeledDatasetFactory.from_json_lines(\n",
        "    task=LabeledDatasetTask.IMAGE_MULTI_LABEL_CLASSIFICATION, path=ds.path(labels_chexpert_blob_path + chexpert_validation_jsonl_file_name))\n",
        "validation_dataset = validation_dataset.register(workspace=ws, name=valid_dataset_name)\n",
        "\n",
        "print(\"Training dataset name: \" + training_dataset.name)\n",
        "print(\"Validation dataset name: \" + validation_dataset.name)"
      ]
    },
    {
      "cell_type": "code",
      "execution_count": 40,
      "metadata": {
        "jupyter": {
          "outputs_hidden": false,
          "source_hidden": false
        },
        "nteract": {
          "transient": {
            "deleting": false
          }
        }
      },
      "outputs": [
        {
          "data": {
            "text/html": [
              "<div>\n",
              "<style scoped>\n",
              "    .dataframe tbody tr th:only-of-type {\n",
              "        vertical-align: middle;\n",
              "    }\n",
              "\n",
              "    .dataframe tbody tr th {\n",
              "        vertical-align: top;\n",
              "    }\n",
              "\n",
              "    .dataframe thead th {\n",
              "        text-align: right;\n",
              "    }\n",
              "</style>\n",
              "<table border=\"1\" class=\"dataframe\">\n",
              "  <thead>\n",
              "    <tr style=\"text-align: right;\">\n",
              "      <th></th>\n",
              "      <th>image_url</th>\n",
              "      <th>label</th>\n",
              "    </tr>\n",
              "  </thead>\n",
              "  <tbody>\n",
              "    <tr>\n",
              "      <th>0</th>\n",
              "      <td>StreamInfo(AmlDatastore://workspaceblobstore/c...</td>\n",
              "      <td>[Cardiomegaly]</td>\n",
              "    </tr>\n",
              "    <tr>\n",
              "      <th>1</th>\n",
              "      <td>StreamInfo(AmlDatastore://workspaceblobstore/c...</td>\n",
              "      <td>[X_other]</td>\n",
              "    </tr>\n",
              "    <tr>\n",
              "      <th>2</th>\n",
              "      <td>StreamInfo(AmlDatastore://workspaceblobstore/c...</td>\n",
              "      <td>[Edema]</td>\n",
              "    </tr>\n",
              "    <tr>\n",
              "      <th>3</th>\n",
              "      <td>StreamInfo(AmlDatastore://workspaceblobstore/c...</td>\n",
              "      <td>[X_other]</td>\n",
              "    </tr>\n",
              "    <tr>\n",
              "      <th>4</th>\n",
              "      <td>StreamInfo(AmlDatastore://workspaceblobstore/c...</td>\n",
              "      <td>[Atelectasis, Pleural Effusion]</td>\n",
              "    </tr>\n",
              "    <tr>\n",
              "      <th>5</th>\n",
              "      <td>StreamInfo(AmlDatastore://workspaceblobstore/c...</td>\n",
              "      <td>[Cardiomegaly, Atelectasis]</td>\n",
              "    </tr>\n",
              "    <tr>\n",
              "      <th>6</th>\n",
              "      <td>StreamInfo(AmlDatastore://workspaceblobstore/c...</td>\n",
              "      <td>[X_other]</td>\n",
              "    </tr>\n",
              "    <tr>\n",
              "      <th>7</th>\n",
              "      <td>StreamInfo(AmlDatastore://workspaceblobstore/c...</td>\n",
              "      <td>[X_other]</td>\n",
              "    </tr>\n",
              "    <tr>\n",
              "      <th>8</th>\n",
              "      <td>StreamInfo(AmlDatastore://workspaceblobstore/c...</td>\n",
              "      <td>[Cardiomegaly, Consolidation, Atelectasis, Ple...</td>\n",
              "    </tr>\n",
              "    <tr>\n",
              "      <th>9</th>\n",
              "      <td>StreamInfo(AmlDatastore://workspaceblobstore/c...</td>\n",
              "      <td>[Cardiomegaly]</td>\n",
              "    </tr>\n",
              "  </tbody>\n",
              "</table>\n",
              "</div>"
            ],
            "text/plain": [
              "                                           image_url  \\\n",
              "0  StreamInfo(AmlDatastore://workspaceblobstore/c...   \n",
              "1  StreamInfo(AmlDatastore://workspaceblobstore/c...   \n",
              "2  StreamInfo(AmlDatastore://workspaceblobstore/c...   \n",
              "3  StreamInfo(AmlDatastore://workspaceblobstore/c...   \n",
              "4  StreamInfo(AmlDatastore://workspaceblobstore/c...   \n",
              "5  StreamInfo(AmlDatastore://workspaceblobstore/c...   \n",
              "6  StreamInfo(AmlDatastore://workspaceblobstore/c...   \n",
              "7  StreamInfo(AmlDatastore://workspaceblobstore/c...   \n",
              "8  StreamInfo(AmlDatastore://workspaceblobstore/c...   \n",
              "9  StreamInfo(AmlDatastore://workspaceblobstore/c...   \n",
              "\n",
              "                                               label  \n",
              "0                                     [Cardiomegaly]  \n",
              "1                                          [X_other]  \n",
              "2                                            [Edema]  \n",
              "3                                          [X_other]  \n",
              "4                    [Atelectasis, Pleural Effusion]  \n",
              "5                        [Cardiomegaly, Atelectasis]  \n",
              "6                                          [X_other]  \n",
              "7                                          [X_other]  \n",
              "8  [Cardiomegaly, Consolidation, Atelectasis, Ple...  \n",
              "9                                     [Cardiomegaly]  "
            ]
          },
          "execution_count": 40,
          "metadata": {},
          "output_type": "execute_result"
        }
      ],
      "source": [
        "validation_dataset.to_pandas_dataframe().head(10)"
      ]
    },
    {
      "cell_type": "markdown",
      "metadata": {
        "nteract": {
          "transient": {
            "deleting": false
          }
        }
      },
      "source": [
        "## Compute target setup\n",
        "You need to provide a [Compute Target](https://docs.microsoft.com/azure/machine-learning/service/concept-azure-machine-learning-architecture#compute-target) that will be used for your AutoML model training. AutoML models for image tasks require GPU SKUs and support NC and ND families. We recommend using the NCsv3-series (with v100 GPUs) for faster training. Using a compute target with a multi-GPU VM SKU will leverage the multiple GPUs to speed up training. Additionally, setting up a compute target with multiple nodes will allow for faster model training by leveraging parallelism, when tuning hyperparameters for your model."
      ]
    },
    {
      "cell_type": "code",
      "execution_count": 29,
      "metadata": {
        "jupyter": {
          "outputs_hidden": false,
          "source_hidden": false
        },
        "nteract": {
          "transient": {
            "deleting": false
          }
        }
      },
      "outputs": [
        {
          "name": "stdout",
          "output_type": "stream",
          "text": [
            "Creating a new compute target...\n",
            "InProgress..\n",
            "SucceededProvisioning operation finished, operation \"Succeeded\"\n",
            "Succeeded\n",
            "AmlCompute wait for completion finished\n",
            "\n",
            "Minimum number of nodes requested have been provisioned\n"
          ]
        }
      ],
      "source": [
        "from azureml.core.compute import AmlCompute, ComputeTarget\n",
        "\n",
        "cluster_name = \"gpu-clu-nv24v3\"\n",
        "\n",
        "try:\n",
        "    compute_target = ws.compute_targets[cluster_name]\n",
        "    print('Found existing compute target.')\n",
        "except KeyError:\n",
        "    print('Creating a new compute target...')\n",
        "    compute_config = AmlCompute.provisioning_configuration(vm_size='Standard_NC6', \n",
        "                                                           vm_priority='lowpriority', # or 'dedicated\n",
        "                                                           idle_seconds_before_scaledown=1800,\n",
        "                                                           min_nodes=0, \n",
        "                                                           max_nodes=4)\n",
        "\n",
        "    compute_target = ComputeTarget.create(ws, cluster_name, compute_config)\n",
        "    \n",
        "# Can poll for a minimum number of nodes and for a specific timeout.\n",
        "# If no min_node_count is provided, it will use the scale settings for the cluster.\n",
        "compute_target.wait_for_completion(show_output=True, min_node_count=None, timeout_in_minutes=20)"
      ]
    },
    {
      "cell_type": "code",
      "execution_count": 23,
      "metadata": {
        "jupyter": {
          "outputs_hidden": false,
          "source_hidden": false
        },
        "nteract": {
          "transient": {
            "deleting": false
          }
        }
      },
      "outputs": [],
      "source": [
        "from azureml.core import Experiment\n",
        "\n",
        "experiment_name = \"automl-chexpert-classification-multilabel\"\n",
        "experiment = Experiment(ws, name=experiment_name)"
      ]
    },
    {
      "cell_type": "markdown",
      "metadata": {
        "nteract": {
          "transient": {
            "deleting": false
          }
        }
      },
      "source": [
        "We use the configuration below, using Vision Transformer (ViT) [vitb16r224](https://learn.microsoft.com/en-us/azure/machine-learning/how-to-auto-train-image-models?tabs=cli#supported-model-algorithms) with image 256 image resize and 225 image center crop. To visualize performance for all epochs, we don't use an [early termination policy](https://learn.microsoft.com/en-us/azure/machine-learning/v1/how-to-auto-train-image-models-v1#early-termination-policies). In larger datasets and depending on the compute budget you can specify an early termination policy such as [Median stopping policy](https://learn.microsoft.com/en-us/azure/machine-learning/how-to-tune-hyperparameters#median-stopping-policy)."
      ]
    },
    {
      "cell_type": "code",
      "execution_count": 31,
      "metadata": {
        "jupyter": {
          "outputs_hidden": false,
          "source_hidden": false
        },
        "nteract": {
          "transient": {
            "deleting": false
          }
        }
      },
      "outputs": [],
      "source": [
        "from azureml.automl.core.shared.constants import ImageTask\n",
        "from azureml.train.automl import AutoMLImageConfig\n",
        "from azureml.train.hyperdrive import BanditPolicy, RandomParameterSampling,GridParameterSampling\n",
        "from azureml.train.hyperdrive import choice, uniform\n",
        "\n",
        "parameter_space = {\n",
        "    \"learning_rate\": choice(0.0001, .0003, .0005),\n",
        "    \"early_stopping\": choice(0),\n",
        "    \"weighted_loss\": choice(1,2),\n",
        "    \"number_of_epochs\": 10,\n",
        "    \"model\": choice(\n",
        "        {\n",
        "            # model-specific, valid_resize_size should be larger or equal than valid_crop_size\n",
        "            \"model_name\": choice(\"vitb16r224\"),            \n",
        "            \"valid_resize_size\": choice(256),\n",
        "            \"valid_crop_size\": choice(224),  # model-specific\n",
        "            \"train_crop_size\": choice(224),  # model-specific\n",
        "        }\n",
        "    ),\n",
        "}\n",
        "\n",
        "tuning_settings = {\n",
        "    \"iterations\": 6,\n",
        "    \"max_concurrent_iterations\": 4,\n",
        "    \"hyperparameter_sampling\": GridParameterSampling(parameter_space),\n",
        "    \"early_termination_policy\":None,\n",
        "}\n",
        "\n",
        "automl_image_config = AutoMLImageConfig(\n",
        "    task=ImageTask.IMAGE_CLASSIFICATION_MULTILABEL,\n",
        "    compute_target=compute_target,\n",
        "    training_data=training_dataset,\n",
        "    validation_data=validation_dataset,\n",
        "    **tuning_settings,\n",
        "    \n",
        ")"
      ]
    },
    {
      "cell_type": "code",
      "execution_count": null,
      "metadata": {
        "jupyter": {
          "outputs_hidden": false,
          "source_hidden": false
        },
        "nteract": {
          "transient": {
            "deleting": false
          }
        }
      },
      "outputs": [],
      "source": [
        "automl_image_run = experiment.submit(automl_image_config)"
      ]
    },
    {
      "cell_type": "markdown",
      "metadata": {
        "nteract": {
          "transient": {
            "deleting": false
          }
        }
      },
      "source": [
        "Visualize the different configurations that were tried using the HyperDrive UI."
      ]
    },
    {
      "cell_type": "code",
      "execution_count": 24,
      "metadata": {
        "jupyter": {
          "outputs_hidden": false,
          "source_hidden": false
        },
        "nteract": {
          "transient": {
            "deleting": false
          }
        }
      },
      "outputs": [
        {
          "data": {
            "text/html": [
              "<table style=\"width:100%\"><tr><th>Experiment</th><th>Id</th><th>Type</th><th>Status</th><th>Details Page</th><th>Docs Page</th></tr><tr><td>automl-chexpert-classification-multilabel</td><td>AutoML_b7ae46a4-9972-468c-9aeb-18709b09e7f7_HD</td><td>hyperdrive</td><td>Completed</td><td><a href=\"https://ml.azure.com/runs/AutoML_b7ae46a4-9972-468c-9aeb-18709b09e7f7_HD?wsid=/subscriptions/6c180dd2-1ec4-4fad-8ba8-1f2d8d67c129/resourcegroups/opendataresearch/workspaces/automldemo&amp;tid=72f988bf-86f1-41af-91ab-2d7cd011db47\" target=\"_blank\" rel=\"noopener\">Link to Azure Machine Learning studio</a></td><td><a href=\"https://docs.microsoft.com/en-us/python/api/azureml-core/azureml.core.run.Run?view=azure-ml-py\" target=\"_blank\" rel=\"noopener\">Link to Documentation</a></td></tr></table>"
            ],
            "text/plain": [
              "Run(Experiment: automl-chexpert-classification-multilabel,\n",
              "Id: AutoML_b7ae46a4-9972-468c-9aeb-18709b09e7f7_HD,\n",
              "Type: hyperdrive,\n",
              "Status: Completed)"
            ]
          },
          "execution_count": 24,
          "metadata": {},
          "output_type": "execute_result"
        }
      ],
      "source": [
        "from azureml.core import Run\n",
        "hyperdrive_run = Run(experiment=experiment, run_id=automl_image_run.id + '_HD')\n",
        "hyperdrive_run"
      ]
    },
    {
      "cell_type": "code",
      "execution_count": 25,
      "metadata": {
        "jupyter": {
          "outputs_hidden": false,
          "source_hidden": false
        },
        "nteract": {
          "transient": {
            "deleting": false
          }
        }
      },
      "outputs": [
        {
          "name": "stdout",
          "output_type": "stream",
          "text": [
            "AutoML_b7ae46a4-9972-468c-9aeb-18709b09e7f7\n"
          ]
        },
        {
          "data": {
            "application/vnd.jupyter.widget-view+json": {
              "model_id": "b421f173a6044390baa8db1bf04a0e31",
              "version_major": 2,
              "version_minor": 0
            },
            "text/plain": [
              "_AutoMLWidget(widget_settings={'childWidgetDisplay': 'popup', 'send_telemetry': False, 'log_level': 'INFO', 's…"
            ]
          },
          "metadata": {},
          "output_type": "display_data"
        },
        {
          "data": {
            "application/aml.mini.widget.v1": "{\"status\": \"Completed\", \"workbench_run_details_uri\": \"https://ml.azure.com/runs/AutoML_b7ae46a4-9972-468c-9aeb-18709b09e7f7?wsid=/subscriptions/6c180dd2-1ec4-4fad-8ba8-1f2d8d67c129/resourcegroups/opendataresearch/workspaces/automldemo&tid=72f988bf-86f1-41af-91ab-2d7cd011db47\", \"run_id\": \"AutoML_b7ae46a4-9972-468c-9aeb-18709b09e7f7\", \"run_properties\": {\"run_id\": \"AutoML_b7ae46a4-9972-468c-9aeb-18709b09e7f7\", \"created_utc\": \"2022-10-22T15:27:13.667888Z\", \"properties\": {\"num_iterations\": \"1\", \"training_type\": \"TrainFull\", \"acquisition_function\": \"EI\", \"primary_metric\": \"iou\", \"train_split\": \"0\", \"acquisition_parameter\": \"0\", \"num_cross_validation\": null, \"target\": \"StandardNC24sv3\", \"AMLSettingsJsonString\": \"{\\\"path\\\":null,\\\"name\\\":\\\"automl-chexpert-classification-multilabel\\\",\\\"subscription_id\\\":\\\"6c180dd2-1ec4-4fad-8ba8-1f2d8d67c129\\\",\\\"resource_group\\\":\\\"opendataresearch\\\",\\\"workspace_name\\\":\\\"automldemo\\\",\\\"region\\\":\\\"westus2\\\",\\\"compute_target\\\":\\\"StandardNC24sv3\\\",\\\"spark_service\\\":null,\\\"azure_service\\\":\\\"remote\\\",\\\"many_models\\\":false,\\\"pipeline_fetch_max_batch_size\\\":1,\\\"enable_batch_run\\\":true,\\\"enable_run_restructure\\\":false,\\\"start_auxiliary_runs_before_parent_complete\\\":false,\\\"enable_code_generation\\\":true,\\\"iterations\\\":1,\\\"primary_metric\\\":\\\"iou\\\",\\\"task_type\\\":\\\"image-classification-multilabel\\\",\\\"positive_label\\\":null,\\\"data_script\\\":null,\\\"test_size\\\":0.0,\\\"test_include_predictions_only\\\":false,\\\"validation_size\\\":0.0,\\\"n_cross_validations\\\":null,\\\"y_min\\\":null,\\\"y_max\\\":null,\\\"num_classes\\\":null,\\\"featurization\\\":\\\"off\\\",\\\"_ignore_package_version_incompatibilities\\\":false,\\\"is_timeseries\\\":false,\\\"max_cores_per_iteration\\\":1,\\\"max_concurrent_iterations\\\":1,\\\"iteration_timeout_minutes\\\":null,\\\"mem_in_mb\\\":null,\\\"enforce_time_on_windows\\\":false,\\\"experiment_timeout_minutes\\\":8640,\\\"experiment_exit_score\\\":null,\\\"partition_column_names\\\":null,\\\"whitelist_models\\\":null,\\\"blacklist_algos\\\":[\\\"TensorFlowDNN\\\",\\\"TensorFlowLinearRegressor\\\"],\\\"supported_models\\\":[],\\\"private_models\\\":[],\\\"auto_blacklist\\\":true,\\\"blacklist_samples_reached\\\":false,\\\"exclude_nan_labels\\\":true,\\\"verbosity\\\":20,\\\"_debug_log\\\":\\\"azureml_automl.log\\\",\\\"show_warnings\\\":false,\\\"model_explainability\\\":true,\\\"service_url\\\":null,\\\"sdk_url\\\":null,\\\"sdk_packages\\\":null,\\\"enable_onnx_compatible_models\\\":false,\\\"enable_split_onnx_featurizer_estimator_models\\\":false,\\\"vm_type\\\":\\\"STANDARD_NC24S_V3\\\",\\\"telemetry_verbosity\\\":20,\\\"send_telemetry\\\":true,\\\"enable_dnn\\\":true,\\\"scenario\\\":\\\"Vision\\\",\\\"environment_label\\\":null,\\\"save_mlflow\\\":false,\\\"enable_categorical_indicators\\\":false,\\\"force_text_dnn\\\":false,\\\"enable_feature_sweeping\\\":true,\\\"enable_early_stopping\\\":true,\\\"early_stopping_n_iters\\\":10,\\\"arguments\\\":null,\\\"dataset_id\\\":\\\"e0a6941d-8ee6-48b3-a776-a96b0d6cb7f3\\\",\\\"hyperdrive_config\\\":{\\\"max_total_jobs\\\":6,\\\"max_concurrent_jobs\\\":4,\\\"generator_config\\\":{\\\"name\\\":\\\"GRID\\\",\\\"parameter_space\\\":\\\"{\\\\\\\"learning_rate\\\\\\\": [\\\\\\\"choice\\\\\\\", [[0.0001, 0.0003, 0.0005]]], \\\\\\\"early_stopping\\\\\\\": [\\\\\\\"choice\\\\\\\", [[0]]], \\\\\\\"weighted_loss\\\\\\\": [\\\\\\\"choice\\\\\\\", [[1, 2]]], \\\\\\\"number_of_epochs\\\\\\\": 10, \\\\\\\"model\\\\\\\": [\\\\\\\"choice\\\\\\\", [[{\\\\\\\"model_name\\\\\\\": [\\\\\\\"choice\\\\\\\", [[\\\\\\\"vitb16r224\\\\\\\"]]], \\\\\\\"valid_resize_size\\\\\\\": [\\\\\\\"choice\\\\\\\", [[256]]], \\\\\\\"valid_crop_size\\\\\\\": [\\\\\\\"choice\\\\\\\", [[224]]], \\\\\\\"train_crop_size\\\\\\\": [\\\\\\\"choice\\\\\\\", [[224]]]}]]]}\\\",\\\"properties\\\":null},\\\"policy_config\\\":null},\\\"validation_dataset_id\\\":\\\"29b44a45-c33d-4535-a44f-3cc77f7a130b\\\",\\\"run_source\\\":\\\"AutoMLImageSDK\\\",\\\"metrics\\\":null,\\\"enable_metric_confidence\\\":false,\\\"enable_ensembling\\\":false,\\\"enable_stack_ensembling\\\":false,\\\"ensemble_iterations\\\":null,\\\"enable_tf\\\":false,\\\"enable_subsampling\\\":false,\\\"subsample_seed\\\":null,\\\"enable_nimbusml\\\":false,\\\"enable_streaming\\\":false,\\\"force_streaming\\\":false,\\\"track_child_runs\\\":true,\\\"allowed_private_models\\\":[],\\\"label_column_name\\\":\\\"label\\\",\\\"weight_column_name\\\":null,\\\"cv_split_column_names\\\":null,\\\"enable_local_managed\\\":false,\\\"_local_managed_run_id\\\":null,\\\"cost_mode\\\":1,\\\"lag_length\\\":0,\\\"metric_operation\\\":\\\"maximize\\\",\\\"preprocess\\\":false}\", \"DataPrepJsonString\": \"{\\\\\\\"training_data\\\\\\\": {\\\\\\\"datasetId\\\\\\\": \\\\\\\"e0a6941d-8ee6-48b3-a776-a96b0d6cb7f3\\\\\\\"}, \\\\\\\"validation_data\\\\\\\": {\\\\\\\"datasetId\\\\\\\": \\\\\\\"29b44a45-c33d-4535-a44f-3cc77f7a130b\\\\\\\"}, \\\\\\\"datasets\\\\\\\": 0}\", \"EnableSubsampling\": \"False\", \"runTemplate\": \"AutoML\", \"azureml.runsource\": \"AutoMLImageSDK\", \"display_task_type\": \"image-classification-multilabel\", \"dependencies_versions\": \"{\\\"azureml-widgets\\\": \\\"1.44.0\\\", \\\"azureml-training-tabular\\\": \\\"1.44.0\\\", \\\"azureml-train\\\": \\\"1.44.0\\\", \\\"azureml-train-restclients-hyperdrive\\\": \\\"1.44.0\\\", \\\"azureml-train-core\\\": \\\"1.44.0\\\", \\\"azureml-train-automl\\\": \\\"1.44.0\\\", \\\"azureml-train-automl-runtime\\\": \\\"1.44.0\\\", \\\"azureml-train-automl-client\\\": \\\"1.44.0\\\", \\\"azureml-tensorboard\\\": \\\"1.44.0\\\", \\\"azureml-telemetry\\\": \\\"1.44.0\\\", \\\"azureml-sdk\\\": \\\"1.44.0\\\", \\\"azureml-samples\\\": \\\"0+unknown\\\", \\\"azureml-responsibleai\\\": \\\"1.44.0\\\", \\\"azureml-pipeline\\\": \\\"1.44.0\\\", \\\"azureml-pipeline-steps\\\": \\\"1.44.0\\\", \\\"azureml-pipeline-core\\\": \\\"1.44.0\\\", \\\"azureml-opendatasets\\\": \\\"1.44.0\\\", \\\"azureml-mlflow\\\": \\\"1.44.0\\\", \\\"azureml-interpret\\\": \\\"1.44.0\\\", \\\"azureml-inference-server-http\\\": \\\"0.7.4\\\", \\\"azureml-explain-model\\\": \\\"1.44.0\\\", \\\"azureml-defaults\\\": \\\"1.44.0\\\", \\\"azureml-dataset-runtime\\\": \\\"1.44.0\\\", \\\"azureml-dataprep\\\": \\\"4.2.2\\\", \\\"azureml-dataprep-rslex\\\": \\\"2.8.1\\\", \\\"azureml-dataprep-native\\\": \\\"38.0.0\\\", \\\"azureml-datadrift\\\": \\\"1.44.0\\\", \\\"azureml-core\\\": \\\"1.44.0\\\", \\\"azureml-contrib-services\\\": \\\"1.44.0\\\", \\\"azureml-contrib-server\\\": \\\"1.44.0\\\", \\\"azureml-contrib-reinforcementlearning\\\": \\\"1.44.0\\\", \\\"azureml-contrib-pipeline-steps\\\": \\\"1.44.0\\\", \\\"azureml-contrib-notebook\\\": \\\"1.44.0\\\", \\\"azureml-contrib-fairness\\\": \\\"1.44.0\\\", \\\"azureml-contrib-dataset\\\": \\\"1.44.0\\\", \\\"azureml-contrib-automl-pipeline-steps\\\": \\\"1.44.0\\\", \\\"azureml-cli-common\\\": \\\"1.44.0\\\", \\\"azureml-automl-runtime\\\": \\\"1.44.0\\\", \\\"azureml-automl-dnn-nlp\\\": \\\"1.44.0\\\", \\\"azureml-automl-core\\\": \\\"1.44.0\\\", \\\"azureml-accel-models\\\": \\\"1.44.0\\\"}\", \"_aml_system_scenario_identification\": \"Remote.Parent\", \"ClientType\": \"SDK\", \"environment_cpu_name\": \"AzureML-AutoML-DNN-Vision-GPU\", \"environment_cpu_label\": \"prod\", \"environment_gpu_name\": \"AzureML-AutoML-DNN-Vision-GPU\", \"environment_gpu_label\": \"prod\", \"root_attribution\": \"AutoMLImageSDK\", \"attribution\": \"AutoML\", \"Orchestrator\": \"AutoML\", \"CancelUri\": \"https://westus2.api.azureml.ms/jasmine/v1.0/subscriptions/6c180dd2-1ec4-4fad-8ba8-1f2d8d67c129/resourceGroups/opendataresearch/providers/Microsoft.MachineLearningServices/workspaces/automldemo/experimentids/0df44d4d-5958-4d6e-a72e-1c27b9d7502a/cancel/AutoML_b7ae46a4-9972-468c-9aeb-18709b09e7f7\", \"ClientSdkVersion\": \"1.46.0\", \"snapshotId\": \"00000000-0000-0000-0000-000000000000\"}, \"tags\": {\"model_explain_run\": \"best_run\", \"_aml_system_automl_run_workspace_id\": \"5bf3a508-5f94-4e52-a847-4f66787737c1\", \"_aml_system_azureml.automlComponent\": \"AutoML\", \"is_gpu\": \"True\", \"pipeline_id\": \"\", \"score\": \"\", \"predicted_cost\": \"\", \"fit_time\": \"\", \"training_percent\": \"\", \"iteration\": \"\", \"run_preprocessor\": \"\", \"run_algorithm\": \"\", \"automl_best_child_run_id\": \"AutoML_b7ae46a4-9972-468c-9aeb-18709b09e7f7_HD_5\"}, \"end_time_utc\": \"2022-10-22T20:33:14.237023Z\", \"status\": \"Completed\", \"log_files\": {}, \"log_groups\": [], \"run_duration\": \"5:06:00\", \"run_number\": \"1666452433\", \"run_queued_details\": {\"status\": \"Completed\", \"details\": null}}, \"child_runs\": [{\"run_id\": \"AutoML_b7ae46a4-9972-468c-9aeb-18709b09e7f7_HD\", \"run_number\": 1666452445, \"metric\": null, \"status\": \"Completed\", \"run_type\": \"hyperdrive\", \"training_percent\": null, \"start_time\": \"2022-10-22T15:27:26.014075Z\", \"end_time\": \"2022-10-22T20:33:13.508449Z\", \"created_time\": \"2022-10-22T15:27:25.673372Z\", \"created_time_dt\": \"2022-10-22T15:27:25.673372Z\", \"duration\": \"5:05:47\", \"iteration\": \"0\", \"goal\": null, \"run_name\": \"Completed\", \"run_properties\": null}], \"children_metrics\": {\"categories\": null, \"series\": null, \"metricName\": null}, \"run_metrics\": [{\"name\": \"iou_macro\", \"run_id\": \"AutoML_b7ae46a4-9972-468c-9aeb-18709b09e7f7\", \"categories\": [0, 1, 2, 3, 4, 5, 6, 7, 8, 9], \"series\": [{\"data\": [0.41842, 0.45703, 0.49032, 0.48238, 0.4683, 0.46904, 0.47291, 0.47546, 0.47534, 0.47771]}]}, {\"name\": \"AUC_weighted\", \"run_id\": \"AutoML_b7ae46a4-9972-468c-9aeb-18709b09e7f7\", \"categories\": [0, 1, 2, 3, 4, 5, 6, 7, 8, 9], \"series\": [{\"data\": [0.79639, 0.83344, 0.84997, 0.84834, 0.85481, 0.85251, 0.85377, 0.85732, 0.85766, 0.85682]}]}, {\"name\": \"AUC_micro\", \"run_id\": \"AutoML_b7ae46a4-9972-468c-9aeb-18709b09e7f7\", \"categories\": [0, 1, 2, 3, 4, 5, 6, 7, 8, 9], \"series\": [{\"data\": [0.79074, 0.81927, 0.84334, 0.84226, 0.84266, 0.83248, 0.84423, 0.84591, 0.85114, 0.84536]}]}, {\"name\": \"precision_score_micro\", \"run_id\": \"AutoML_b7ae46a4-9972-468c-9aeb-18709b09e7f7\", \"categories\": [0, 1, 2, 3, 4, 5, 6, 7, 8, 9], \"series\": [{\"data\": [0.52411, 0.5692, 0.6253, 0.57783, 0.58166, 0.59112, 0.58945, 0.59039, 0.58864, 0.59268]}]}, {\"name\": \"AUC_macro\", \"run_id\": \"AutoML_b7ae46a4-9972-468c-9aeb-18709b09e7f7\", \"categories\": [0, 1, 2, 3, 4, 5, 6, 7, 8, 9], \"series\": [{\"data\": [0.80008, 0.8403, 0.85719, 0.85663, 0.86323, 0.86164, 0.86267, 0.86638, 0.86641, 0.86564]}]}, {\"name\": \"iou\", \"run_id\": \"AutoML_b7ae46a4-9972-468c-9aeb-18709b09e7f7\", \"categories\": [0, 1, 2, 3, 4, 5, 6, 7, 8, 9], \"series\": [{\"data\": [0.5326, 0.56389, 0.59134, 0.56111, 0.55874, 0.55956, 0.55212, 0.55474, 0.55596, 0.55613]}]}, {\"name\": \"f1_score_macro\", \"run_id\": \"AutoML_b7ae46a4-9972-468c-9aeb-18709b09e7f7\", \"categories\": [0, 1, 2, 3, 4, 5, 6, 7, 8, 9], \"series\": [{\"data\": [0.58717, 0.62443, 0.65474, 0.64878, 0.63489, 0.63557, 0.63839, 0.64203, 0.64168, 0.64401]}]}, {\"name\": \"f1_score_micro\", \"run_id\": \"AutoML_b7ae46a4-9972-468c-9aeb-18709b09e7f7\", \"categories\": [0, 1, 2, 3, 4, 5, 6, 7, 8, 9], \"series\": [{\"data\": [0.60096, 0.63512, 0.67102, 0.65777, 0.64838, 0.64623, 0.64981, 0.65152, 0.65157, 0.65404]}]}, {\"name\": \"recall_score_macro\", \"run_id\": \"AutoML_b7ae46a4-9972-468c-9aeb-18709b09e7f7\", \"categories\": [0, 1, 2, 3, 4, 5, 6, 7, 8, 9], \"series\": [{\"data\": [0.70434, 0.72231, 0.71569, 0.78376, 0.72621, 0.72755, 0.72844, 0.73103, 0.73064, 0.73336]}]}, {\"name\": \"average_precision_score_macro\", \"run_id\": \"AutoML_b7ae46a4-9972-468c-9aeb-18709b09e7f7\", \"categories\": [0, 1, 2, 3, 4, 5, 6, 7, 8, 9], \"series\": [{\"data\": [0.59177, 0.66283, 0.71023, 0.71603, 0.72883, 0.73124, 0.73352, 0.74033, 0.7426, 0.73944]}]}, {\"name\": \"classification_report\", \"run_id\": \"AutoML_b7ae46a4-9972-468c-9aeb-18709b09e7f7\", \"categories\": [0], \"series\": [{\"data\": [{\"class_name\": [\"Atelectasis\", \"Cardiomegaly\", \"Consolidation\", \"Edema\", \"Pleural Effusion\", \"X_other\", \"micro avg\", \"macro avg\", \"weighted avg\"], \"precision\": [0.7027, 0.72917, 0.47619, 0.53226, 0.72308, 0.58333, 0.6253, 0.62445, 0.64557], \"recall\": [0.69333, 0.52239, 0.625, 0.78571, 0.73438, 0.93333, 0.72394, 0.71569, 0.72394], \"f1-score\": [0.69799, 0.6087, 0.54054, 0.63462, 0.72868, 0.71795, 0.67102, 0.65474, 0.6692], \"support\": [75.0, 67.0, 32.0, 42.0, 64.0, 75.0, 355.0, 355.0, 355.0], \"iou\": [0.53608, 0.4375, 0.37037, 0.46479, 0.57317, 0.56, 0.50491, 0.49032, 0.50584], \"auc\": [0.79473, 0.82602, 0.89299, 0.88889, 0.8779, 0.86264, 0.84334, 0.85719, 0.84997], \"average_precision\": [0.69402, 0.71272, 0.57977, 0.71873, 0.79893, 0.75718, 0.68732, 0.71023, 0.72243]}]}]}, {\"name\": \"iou_micro\", \"run_id\": \"AutoML_b7ae46a4-9972-468c-9aeb-18709b09e7f7\", \"categories\": [0, 1, 2, 3, 4, 5, 6, 7, 8, 9], \"series\": [{\"data\": [0.42955, 0.46533, 0.50491, 0.49005, 0.4797, 0.47736, 0.48127, 0.48315, 0.48321, 0.48593]}]}, {\"name\": \"iou_train\", \"run_id\": \"AutoML_b7ae46a4-9972-468c-9aeb-18709b09e7f7\", \"categories\": [0, 1, 2, 3, 4, 5, 6, 7, 8, 9], \"series\": [{\"data\": [0.28082, 0.37717, 0.39289, 0.40182, 0.40613, 0.40865, 0.41089, 0.41279, 0.41377, 0.41334]}]}, {\"name\": \"iou_weighted\", \"run_id\": \"AutoML_b7ae46a4-9972-468c-9aeb-18709b09e7f7\", \"categories\": [0, 1, 2, 3, 4, 5, 6, 7, 8, 9], \"series\": [{\"data\": [0.43277, 0.46911, 0.50584, 0.49174, 0.47585, 0.47323, 0.4812, 0.48218, 0.48231, 0.48479]}]}, {\"name\": \"recall_score_weighted\", \"run_id\": \"AutoML_b7ae46a4-9972-468c-9aeb-18709b09e7f7\", \"categories\": [0, 1, 2, 3, 4, 5, 6, 7, 8, 9], \"series\": [{\"data\": [0.70423, 0.71831, 0.72394, 0.76338, 0.73239, 0.71268, 0.72394, 0.72676, 0.72958, 0.72958]}]}, {\"name\": \"average_precision_score_weighted\", \"run_id\": \"AutoML_b7ae46a4-9972-468c-9aeb-18709b09e7f7\", \"categories\": [0, 1, 2, 3, 4, 5, 6, 7, 8, 9], \"series\": [{\"data\": [0.61856, 0.67677, 0.72243, 0.72719, 0.741, 0.74048, 0.74222, 0.74832, 0.75124, 0.74866]}]}, {\"name\": \"f1_score_weighted\", \"run_id\": \"AutoML_b7ae46a4-9972-468c-9aeb-18709b09e7f7\", \"categories\": [0, 1, 2, 3, 4, 5, 6, 7, 8, 9], \"series\": [{\"data\": [0.60156, 0.63614, 0.6692, 0.65737, 0.64175, 0.63935, 0.64626, 0.6484, 0.64828, 0.65069]}]}, {\"name\": \"log_loss\", \"run_id\": \"AutoML_b7ae46a4-9972-468c-9aeb-18709b09e7f7\", \"categories\": [0, 1, 2, 3, 4, 5, 6, 7, 8, 9], \"series\": [{\"data\": [0.55357, 0.51292, 0.47399, 0.4795, 0.47656, 0.48097, 0.46565, 0.46555, 0.45705, 0.46268]}]}, {\"name\": \"precision_score_macro\", \"run_id\": \"AutoML_b7ae46a4-9972-468c-9aeb-18709b09e7f7\", \"categories\": [0, 1, 2, 3, 4, 5, 6, 7, 8, 9], \"series\": [{\"data\": [0.51388, 0.56887, 0.62445, 0.58765, 0.60119, 0.61157, 0.598, 0.60098, 0.59861, 0.60731]}]}, {\"name\": \"accuracy\", \"run_id\": \"AutoML_b7ae46a4-9972-468c-9aeb-18709b09e7f7\", \"categories\": [0, 1, 2, 3, 4, 5, 6, 7, 8, 9], \"series\": [{\"data\": [0.32353, 0.33333, 0.36275, 0.29412, 0.29412, 0.29902, 0.27941, 0.28431, 0.28431, 0.28431]}]}, {\"name\": \"average_precision_score_micro\", \"run_id\": \"AutoML_b7ae46a4-9972-468c-9aeb-18709b09e7f7\", \"categories\": [0, 1, 2, 3, 4, 5, 6, 7, 8, 9], \"series\": [{\"data\": [0.59892, 0.64318, 0.68732, 0.70575, 0.70834, 0.6928, 0.71666, 0.715, 0.72174, 0.71674]}]}, {\"name\": \"recall_score_micro\", \"run_id\": \"AutoML_b7ae46a4-9972-468c-9aeb-18709b09e7f7\", \"categories\": [0, 1, 2, 3, 4, 5, 6, 7, 8, 9], \"series\": [{\"data\": [0.70423, 0.71831, 0.72394, 0.76338, 0.73239, 0.71268, 0.72394, 0.72676, 0.72958, 0.72958]}]}, {\"name\": \"precision_score_weighted\", \"run_id\": \"AutoML_b7ae46a4-9972-468c-9aeb-18709b09e7f7\", \"categories\": [0, 1, 2, 3, 4, 5, 6, 7, 8, 9], \"series\": [{\"data\": [0.53451, 0.58943, 0.64557, 0.60944, 0.6129, 0.62905, 0.61518, 0.61567, 0.6121, 0.62284]}]}, {\"name\": \"log_loss_train\", \"run_id\": \"AutoML_b7ae46a4-9972-468c-9aeb-18709b09e7f7\", \"categories\": [0, 1, 2, 3, 4, 5, 6, 7, 8, 9], \"series\": [{\"data\": [1.04753, 0.97008, 0.94309, 0.92721, 0.91316, 0.90568, 0.90691, 0.89764, 0.89981, 0.89684]}]}], \"run_logs\": \"\\nRun is completed.\", \"graph\": {}, \"widget_settings\": {\"childWidgetDisplay\": \"popup\", \"send_telemetry\": false, \"log_level\": \"INFO\", \"sdk_version\": \"1.44.0\"}, \"loading\": false}"
          },
          "metadata": {},
          "output_type": "display_data"
        }
      ],
      "source": [
        "from azureml.widgets import RunDetails\n",
        "\n",
        "runID = \"AutoML_b7ae46a4-9972-468c-9aeb-18709b09e7f7\" \n",
        "run = [r for r in experiment.get_runs() if r.id == runID][0]\n",
        "print(run.id)\n",
        "RunDetails(run).show()"
      ]
    },
    {
      "cell_type": "markdown",
      "metadata": {
        "nteract": {
          "transient": {
            "deleting": false
          }
        }
      },
      "source": [
        "Download the best model"
      ]
    },
    {
      "cell_type": "code",
      "execution_count": 27,
      "metadata": {
        "jupyter": {
          "outputs_hidden": false,
          "source_hidden": false
        },
        "nteract": {
          "transient": {
            "deleting": false
          }
        }
      },
      "outputs": [],
      "source": [
        "best_child_run = run.get_best_child()\n",
        "model_name = best_child_run.properties['model_name']\n",
        "model = best_child_run.register_model(model_name = model_name, model_path='outputs/model.pt')"
      ]
    },
    {
      "cell_type": "markdown",
      "metadata": {
        "nteract": {
          "transient": {
            "deleting": false
          }
        }
      },
      "source": [
        "# Results using 'small CheXpert' dataset\n",
        "\n",
        "<img src=\"images/dp-chexpert_small-runs.png\" width=800 />\n",
        "\n",
        "<img src=\"images/dp-chexpert_small-runs_parallel_coordinates_chart.png\" width=800 />"
      ]
    },
    {
      "cell_type": "markdown",
      "metadata": {
        "nteract": {
          "transient": {
            "deleting": false
          }
        }
      },
      "source": [
        "# Bonus\n",
        "\n",
        "### Results using standard (non-resized) CheXpert dataset\n",
        "\n",
        "We show results of training CheXpert using the standard image size. The two graphs below show overall performance using a 'serexnet' model. In this case, we performed an exaustive evaluation using by disabaling the early terminal policy (configuration parameters are below). \n",
        "\n",
        "You can reproduce results by just downloading/unziping standard CheXpert dataset using the steps above.\n",
        "\n",
        "<img src=\"images/dp-chexpert-runs.png\" width=800 >\n",
        "\n",
        "<img src=\"images/dp-chexpert-runs_parallel_coordinates_chart.png\" width=800 >"
      ]
    },
    {
      "cell_type": "markdown",
      "metadata": {
        "nteract": {
          "transient": {
            "deleting": false
          }
        }
      },
      "source": [
        "### Effect of [hyperparameters](https://learn.microsoft.com/en-us/azure/machine-learning/reference-automl-images-hyperparameters#image-classification-multi-class-and-multi-label-specific-hyperparameters)\n",
        "\n",
        "We can easily visualize effects of hyperparameters. The two graphs below show effect of learning rate and weighted loss with respect to the AUC macro (metric). Based on the graphs below, we osbserve that performance (AUC Macro) increases for:\n",
        "\n",
        "1. Larger learning rates (greater than 0.001) \n",
        "2. Weighted loss with sqrt.(class_weights), which corresponds to value 1 (walue 2 corresponds to weighted loss with class_weights).\n",
        "\n",
        "<img src=\"images/dp-chexpert-scatter-AUC_lr.png\" width=800 >\n",
        "\n",
        "<img src=\"images/dp-chexpert-scatter-AUC_wl.png\" width=800 >\n",
        "\n"
      ]
    },
    {
      "cell_type": "markdown",
      "metadata": {
        "nteract": {
          "transient": {
            "deleting": false
          }
        }
      },
      "source": [
        "## The parameter settings for the runs above:"
      ]
    },
    {
      "cell_type": "code",
      "execution_count": null,
      "metadata": {
        "jupyter": {
          "outputs_hidden": false,
          "source_hidden": false
        },
        "nteract": {
          "transient": {
            "deleting": false
          }
        }
      },
      "outputs": [],
      "source": [
        "parameter_space = {\n",
        "    \"learning_rate\": choice(0.0001, .0003, .0005),\n",
        "    \"early_stopping\": choice(0),\n",
        "    \"weighted_loss\": choice(1,2),\n",
        "    \"number_of_epochs\": 40,\n",
        "    \"model\": choice(\n",
        "        {\n",
        "            # model-specific, valid_resize_size should be larger or equal than valid_crop_size\n",
        "            \"model_name\": choice(\"seresnext\"),            \n",
        "            \"valid_resize_size\": choice(512),\n",
        "            \"valid_crop_size\": choice(488),  # model-specific\n",
        "            \"train_crop_size\": choice(488),  # model-specific\n",
        "            'training_batch_size': choice(48), \n",
        "            'validation_batch_size': choice(48)\n",
        "        },\n",
        "        {\n",
        "            # model-specific, valid_resize_size should be larger or equal than valid_crop_size\n",
        "            \"model_name\": choice(\"seresnext\"),            \n",
        "            \"valid_resize_size\": choice(288),\n",
        "            \"valid_crop_size\": choice(224),  # model-specific\n",
        "            \"train_crop_size\": choice(224),  # model-specific\n",
        "            'training_batch_size': choice(48), \n",
        "            'validation_batch_size': choice(48),\n",
        "        },\n",
        "        {\n",
        "            # model-specific, valid_resize_size should be larger or equal than valid_crop_size\n",
        "            \"model_name\": choice(\"seresnext\"),            \n",
        "            \"valid_resize_size\": choice(320),\n",
        "            \"valid_crop_size\": choice(224),  # model-specific\n",
        "            \"train_crop_size\": choice(224),  # model-specific\n",
        "            'training_batch_size': choice(48), \n",
        "            'validation_batch_size': choice(48),\n",
        "        },\n",
        "        {\n",
        "            # model-specific, valid_resize_size should be larger or equal than valid_crop_size\n",
        "            \"model_name\": choice(\"seresnext\"),            \n",
        "            \"valid_resize_size\": choice(352),\n",
        "            \"valid_crop_size\": choice(256),  # model-specific\n",
        "            \"train_crop_size\": choice(256),  # model-specific\n",
        "            'training_batch_size': choice(48), \n",
        "            'validation_batch_size': choice(48),\n",
        "        }\n",
        "    ),\n",
        "}\n",
        "\n",
        "tuning_settings = {\n",
        "    \"iterations\": 24,\n",
        "    \"max_concurrent_iterations\": 8,\n",
        "    \"hyperparameter_sampling\": GridParameterSampling(parameter_space),\n",
        "    \"early_termination_policy\":None,\n",
        "}\n",
        "\n",
        "\n"
      ]
    }
  ],
  "metadata": {
    "kernel_info": {
      "name": "python3"
    },
    "kernelspec": {
      "display_name": "Python 3 (ipykernel)",
      "language": "python",
      "name": "python3"
    },
    "language_info": {
      "codemirror_mode": {
        "name": "ipython",
        "version": 3
      },
      "file_extension": ".py",
      "mimetype": "text/x-python",
      "name": "python",
      "nbconvert_exporter": "python",
      "pygments_lexer": "ipython3",
      "version": "3.8.12"
    },
    "nteract": {
      "version": "nteract-front-end@1.0.0"
    },
    "vscode": {
      "interpreter": {
        "hash": "25b72a893ec4fee2ce5b3e05ac4135fcb8022615c60e71903276252789e8a937"
      }
    }
  },
  "nbformat": 4,
  "nbformat_minor": 0
}
